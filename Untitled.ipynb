{
 "cells": [
  {
   "cell_type": "code",
   "execution_count": null,
   "metadata": {},
   "outputs": [],
   "source": [
    "from utils import *\n",
    "import torch\n",
    "import torch.utils.data\n",
    "from model_architectures import SaliencyModel\n",
    "from collections import OrderedDict\n",
    "from scipy.misc import imresize\n",
    "from scipy.ndimage import imread\n",
    "import matplotlib.pyplot as plt"
   ]
  },
  {
   "cell_type": "code",
   "execution_count": null,
   "metadata": {},
   "outputs": [],
   "source": [
    "# Load Model\n",
    "\n",
    "device = torch.device('cpu')\n",
    "model = SaliencyModelHoleFCL()\n",
    "state_dict = torch.load('new_model_exp1/saved_models/train_model_latest', map_location=device)\n",
    "\n",
    "temp_state_dict = state_dict['network']\n",
    "new_state_dict = OrderedDict()\n",
    "\n",
    "for k, v in temp_state_dict.items():\n",
    "    name = k[6:] # remove `network.`\n",
    "    new_state_dict[name] = v\n",
    "model.load_state_dict(new_state_dict)"
   ]
  },
  {
   "cell_type": "code",
   "execution_count": null,
   "metadata": {},
   "outputs": [],
   "source": [
    "# Load Data\n",
    "\n",
    "imgs_128 = load_array('images_128')\n",
    "imgs_64 = load_array('images_64')\n",
    "imgs_32 = load_array('images_32')\n",
    "\n",
    "testset_128 = imgs[84000:]\n",
    "testset_64 = imgs[84000:]\n",
    "testset_32 = imgs[84000:]\n",
    "\n",
    "testset_128 = np.expand_dims(testset_128, axis=1)\n",
    "testset_64 = np.expand_dims(testset_64, axis=1)\n",
    "testset_32 = np.expand_dims(testset_32, axis=1)\n",
    "\n",
    "test_data_128 = torch.utils.data.DataLoader(testset_128, batch_size=1, shuffle=False ,num_workers=2)\n",
    "test_data_64 = torch.utils.data.DataLoader(testset_64, batch_size=1, shuffle=False ,num_workers=2)\n",
    "test_data_32 = torch.utils.data.DataLoader(testset_32, batch_size=1, shuffle=False ,num_workers=2)"
   ]
  },
  {
   "cell_type": "code",
   "execution_count": null,
   "metadata": {},
   "outputs": [],
   "source": [
    "    y = np.zeros((x.shape[0], patch_size, patch_size))\n",
    "    new_x = np.array(x, copy=True)\n",
    "    for batch_idx in range(x.shape[0]):\n",
    "        h_rand = random.randint(patch_size, x.shape[2]-patch_size)\n",
    "        w_rand = random.randint(patch_size, x.shape[3]-patch_size)\n",
    "        \n",
    "        mask = np.ones((x.shape[2], x.shape[3]))\n",
    "        mask[h_rand-(patch_size//2):h_rand+(patch_size//2), w_rand-(patch_size//2):w_rand+(patch_size//2)] = 0\n",
    "\n",
    "        y[batch_idx] = x[batch_idx, 0, h_rand-(patch_size//2):h_rand+(patch_size//2), w_rand-(patch_size//2):w_rand+(patch_size//2)]\n",
    "        new_x[batch_idx, 0, h_rand-(patch_size//2):h_rand+(patch_size//2), w_rand-(patch_size//2):w_rand+(patch_size//2)] = 0\n",
    "\n",
    "    return new_x, y"
   ]
  },
  {
   "cell_type": "code",
   "execution_count": null,
   "metadata": {},
   "outputs": [],
   "source": [
    "for x in test_data_128:\n",
    "    for i in range(8, 32):\n",
    "        for j in range(4, 32):\n",
    "            "
   ]
  }
 ],
 "metadata": {
  "kernelspec": {
   "display_name": "Python 3",
   "language": "python",
   "name": "python3"
  },
  "language_info": {
   "codemirror_mode": {
    "name": "ipython",
    "version": 3
   },
   "file_extension": ".py",
   "mimetype": "text/x-python",
   "name": "python",
   "nbconvert_exporter": "python",
   "pygments_lexer": "ipython3",
   "version": "3.6.7"
  }
 },
 "nbformat": 4,
 "nbformat_minor": 2
}
